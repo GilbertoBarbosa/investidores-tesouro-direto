{
 "cells": [
  {
   "cell_type": "code",
   "execution_count": 1,
   "id": "700433ac",
   "metadata": {},
   "outputs": [],
   "source": [
    "# Dados de investidores do Tesouro Direto\n",
    "# disponível em: https://dados.gov.br/dataset/investidores-do-tesouro-direto"
   ]
  },
  {
   "cell_type": "code",
   "execution_count": 2,
   "id": "19099366",
   "metadata": {},
   "outputs": [],
   "source": [
    "# Importando Bibliotecas Necessárias\n",
    "import numpy as np\n",
    "import pandas as pd\n",
    "import matplotlib as plt\n",
    "import seaborn as sbn\n",
    "%matplotlib inline"
   ]
  },
  {
   "cell_type": "code",
   "execution_count": 3,
   "id": "bf2a71dd",
   "metadata": {},
   "outputs": [],
   "source": [
    "# Importando os dados\n",
    "df = pd.read_csv(\"Investidores_Tesouro_Direto.csv\", sep = \";\", encoding_errors='ignore')"
   ]
  },
  {
   "cell_type": "code",
   "execution_count": null,
   "id": "100bbd9d",
   "metadata": {},
   "outputs": [],
   "source": []
  },
  {
   "cell_type": "markdown",
   "id": "a033d585",
   "metadata": {},
   "source": [
    "# Análise exploratória"
   ]
  },
  {
   "cell_type": "code",
   "execution_count": 4,
   "id": "dc5208c8",
   "metadata": {},
   "outputs": [
    {
     "data": {
      "text/html": [
       "<div>\n",
       "<style scoped>\n",
       "    .dataframe tbody tr th:only-of-type {\n",
       "        vertical-align: middle;\n",
       "    }\n",
       "\n",
       "    .dataframe tbody tr th {\n",
       "        vertical-align: top;\n",
       "    }\n",
       "\n",
       "    .dataframe thead th {\n",
       "        text-align: right;\n",
       "    }\n",
       "</style>\n",
       "<table border=\"1\" class=\"dataframe\">\n",
       "  <thead>\n",
       "    <tr style=\"text-align: right;\">\n",
       "      <th></th>\n",
       "      <th>Codigo do Investidor</th>\n",
       "      <th>Data de Adesao</th>\n",
       "      <th>Estado Civil</th>\n",
       "      <th>Genero</th>\n",
       "      <th>Profissao</th>\n",
       "      <th>Idade</th>\n",
       "      <th>UF do Investidor</th>\n",
       "      <th>Cidade do Investidor</th>\n",
       "      <th>Pais do Investidor</th>\n",
       "      <th>Situacao da Conta</th>\n",
       "      <th>Operou 12 Meses</th>\n",
       "    </tr>\n",
       "  </thead>\n",
       "  <tbody>\n",
       "    <tr>\n",
       "      <th>0</th>\n",
       "      <td>164912</td>\n",
       "      <td>11/12/2008</td>\n",
       "      <td>Casado(a) com brasileiro(a) nato(a)</td>\n",
       "      <td>M</td>\n",
       "      <td>ENGENHEIRO</td>\n",
       "      <td>71</td>\n",
       "      <td>SP</td>\n",
       "      <td>SAO PAULO</td>\n",
       "      <td>BRASIL</td>\n",
       "      <td>D</td>\n",
       "      <td>N</td>\n",
       "    </tr>\n",
       "    <tr>\n",
       "      <th>1</th>\n",
       "      <td>165560</td>\n",
       "      <td>17/12/2008</td>\n",
       "      <td>Solteiro(a)</td>\n",
       "      <td>M</td>\n",
       "      <td>BANCARIO E ECONOMIRIO</td>\n",
       "      <td>36</td>\n",
       "      <td>SP</td>\n",
       "      <td>SAO PAULO</td>\n",
       "      <td>BRASIL</td>\n",
       "      <td>D</td>\n",
       "      <td>N</td>\n",
       "    </tr>\n",
       "    <tr>\n",
       "      <th>2</th>\n",
       "      <td>166190</td>\n",
       "      <td>22/12/2008</td>\n",
       "      <td>Solteiro(a)</td>\n",
       "      <td>F</td>\n",
       "      <td>OUTROS</td>\n",
       "      <td>67</td>\n",
       "      <td>SP</td>\n",
       "      <td>SAO PAULO</td>\n",
       "      <td>BRASIL</td>\n",
       "      <td>D</td>\n",
       "      <td>N</td>\n",
       "    </tr>\n",
       "    <tr>\n",
       "      <th>3</th>\n",
       "      <td>166916</td>\n",
       "      <td>29/12/2008</td>\n",
       "      <td>Casado(a) com brasileiro(a) nato(a)</td>\n",
       "      <td>M</td>\n",
       "      <td>BANCARIO E ECONOMIRIO</td>\n",
       "      <td>57</td>\n",
       "      <td>SP</td>\n",
       "      <td>SAO PAULO</td>\n",
       "      <td>BRASIL</td>\n",
       "      <td>D</td>\n",
       "      <td>N</td>\n",
       "    </tr>\n",
       "    <tr>\n",
       "      <th>4</th>\n",
       "      <td>167718</td>\n",
       "      <td>07/01/2009</td>\n",
       "      <td>Solteiro(a)</td>\n",
       "      <td>F</td>\n",
       "      <td>SERVIDOR PBLICO FEDERAL</td>\n",
       "      <td>60</td>\n",
       "      <td>SP</td>\n",
       "      <td>SAO PAULO</td>\n",
       "      <td>BRASIL</td>\n",
       "      <td>D</td>\n",
       "      <td>N</td>\n",
       "    </tr>\n",
       "  </tbody>\n",
       "</table>\n",
       "</div>"
      ],
      "text/plain": [
       "   Codigo do Investidor Data de Adesao                         Estado Civil  \\\n",
       "0                164912     11/12/2008  Casado(a) com brasileiro(a) nato(a)   \n",
       "1                165560     17/12/2008                          Solteiro(a)   \n",
       "2                166190     22/12/2008                          Solteiro(a)   \n",
       "3                166916     29/12/2008  Casado(a) com brasileiro(a) nato(a)   \n",
       "4                167718     07/01/2009                          Solteiro(a)   \n",
       "\n",
       "  Genero                Profissao  Idade UF do Investidor  \\\n",
       "0      M               ENGENHEIRO     71               SP   \n",
       "1      M    BANCARIO E ECONOMIRIO     36               SP   \n",
       "2      F                   OUTROS     67               SP   \n",
       "3      M    BANCARIO E ECONOMIRIO     57               SP   \n",
       "4      F  SERVIDOR PBLICO FEDERAL     60               SP   \n",
       "\n",
       "  Cidade do Investidor Pais do Investidor Situacao da Conta Operou 12 Meses  \n",
       "0            SAO PAULO             BRASIL                 D               N  \n",
       "1            SAO PAULO             BRASIL                 D               N  \n",
       "2            SAO PAULO             BRASIL                 D               N  \n",
       "3            SAO PAULO             BRASIL                 D               N  \n",
       "4            SAO PAULO             BRASIL                 D               N  "
      ]
     },
     "execution_count": 4,
     "metadata": {},
     "output_type": "execute_result"
    }
   ],
   "source": [
    "# Primeiras linhas\n",
    "df.head()"
   ]
  },
  {
   "cell_type": "code",
   "execution_count": 5,
   "id": "a23b70b9",
   "metadata": {},
   "outputs": [
    {
     "data": {
      "text/plain": [
       "(6379965, 11)"
      ]
     },
     "execution_count": 5,
     "metadata": {},
     "output_type": "execute_result"
    }
   ],
   "source": [
    "# Dimensões\n",
    "df.shape"
   ]
  },
  {
   "cell_type": "code",
   "execution_count": 6,
   "id": "7bd76c33",
   "metadata": {},
   "outputs": [
    {
     "data": {
      "text/plain": [
       "Codigo do Investidor     int64\n",
       "Data de Adesao          object\n",
       "Estado Civil            object\n",
       "Genero                  object\n",
       "Profissao               object\n",
       "Idade                    int64\n",
       "UF do Investidor        object\n",
       "Cidade do Investidor    object\n",
       "Pais do Investidor      object\n",
       "Situacao da Conta       object\n",
       "Operou 12 Meses         object\n",
       "dtype: object"
      ]
     },
     "execution_count": 6,
     "metadata": {},
     "output_type": "execute_result"
    }
   ],
   "source": [
    "# Tipo dos dados\n",
    "df.dtypes"
   ]
  },
  {
   "cell_type": "code",
   "execution_count": 7,
   "id": "aaacb80c",
   "metadata": {},
   "outputs": [
    {
     "data": {
      "text/html": [
       "<div>\n",
       "<style scoped>\n",
       "    .dataframe tbody tr th:only-of-type {\n",
       "        vertical-align: middle;\n",
       "    }\n",
       "\n",
       "    .dataframe tbody tr th {\n",
       "        vertical-align: top;\n",
       "    }\n",
       "\n",
       "    .dataframe thead th {\n",
       "        text-align: right;\n",
       "    }\n",
       "</style>\n",
       "<table border=\"1\" class=\"dataframe\">\n",
       "  <thead>\n",
       "    <tr style=\"text-align: right;\">\n",
       "      <th></th>\n",
       "      <th>Codigo do Investidor</th>\n",
       "      <th>Idade</th>\n",
       "    </tr>\n",
       "  </thead>\n",
       "  <tbody>\n",
       "    <tr>\n",
       "      <th>count</th>\n",
       "      <td>6.379965e+06</td>\n",
       "      <td>6.379965e+06</td>\n",
       "    </tr>\n",
       "    <tr>\n",
       "      <th>mean</th>\n",
       "      <td>6.450439e+06</td>\n",
       "      <td>3.819499e+01</td>\n",
       "    </tr>\n",
       "    <tr>\n",
       "      <th>std</th>\n",
       "      <td>5.410288e+06</td>\n",
       "      <td>1.298399e+01</td>\n",
       "    </tr>\n",
       "    <tr>\n",
       "      <th>min</th>\n",
       "      <td>3.000000e+00</td>\n",
       "      <td>0.000000e+00</td>\n",
       "    </tr>\n",
       "    <tr>\n",
       "      <th>25%</th>\n",
       "      <td>1.944774e+06</td>\n",
       "      <td>2.900000e+01</td>\n",
       "    </tr>\n",
       "    <tr>\n",
       "      <th>50%</th>\n",
       "      <td>4.833780e+06</td>\n",
       "      <td>3.600000e+01</td>\n",
       "    </tr>\n",
       "    <tr>\n",
       "      <th>75%</th>\n",
       "      <td>1.014000e+07</td>\n",
       "      <td>4.500000e+01</td>\n",
       "    </tr>\n",
       "    <tr>\n",
       "      <th>max</th>\n",
       "      <td>1.969583e+07</td>\n",
       "      <td>1.210000e+02</td>\n",
       "    </tr>\n",
       "  </tbody>\n",
       "</table>\n",
       "</div>"
      ],
      "text/plain": [
       "       Codigo do Investidor         Idade\n",
       "count          6.379965e+06  6.379965e+06\n",
       "mean           6.450439e+06  3.819499e+01\n",
       "std            5.410288e+06  1.298399e+01\n",
       "min            3.000000e+00  0.000000e+00\n",
       "25%            1.944774e+06  2.900000e+01\n",
       "50%            4.833780e+06  3.600000e+01\n",
       "75%            1.014000e+07  4.500000e+01\n",
       "max            1.969583e+07  1.210000e+02"
      ]
     },
     "execution_count": 7,
     "metadata": {},
     "output_type": "execute_result"
    }
   ],
   "source": [
    "# Sumário estatístico\n",
    "df.describe()"
   ]
  },
  {
   "cell_type": "code",
   "execution_count": 8,
   "id": "41d28905",
   "metadata": {},
   "outputs": [
    {
     "data": {
      "text/plain": [
       "Estado Civil\n",
       "Solteiro(a)                                    3227817\n",
       "Casado(a) com brasileiro(a) nato(a)            2405309\n",
       "Divorciado(a)                                   381185\n",
       "Unio estvel                                     250776\n",
       "Vivo(a)                                          72613\n",
       "Separado judic.                                  41700\n",
       "Desquitado(a)                                      308\n",
       "Casado(a) com estrangeiro(a)                       168\n",
       "Casado(a) com brasileiro(a) naturalizado(a)         86\n",
       "No se aplica                                         3\n",
       "dtype: int64"
      ]
     },
     "execution_count": 8,
     "metadata": {},
     "output_type": "execute_result"
    }
   ],
   "source": [
    "# Distribuição da variável estado civil\n",
    "df.groupby('Estado Civil').size().sort_values(ascending=False)"
   ]
  },
  {
   "cell_type": "code",
   "execution_count": 9,
   "id": "81d67b8a",
   "metadata": {},
   "outputs": [
    {
     "data": {
      "text/plain": [
       "Genero\n",
       "F    1906084\n",
       "M    4473878\n",
       "N          3\n",
       "dtype: int64"
      ]
     },
     "execution_count": 9,
     "metadata": {},
     "output_type": "execute_result"
    }
   ],
   "source": [
    "# Distribuição da variável Genero\n",
    "df.groupby('Genero').size()"
   ]
  },
  {
   "cell_type": "code",
   "execution_count": 10,
   "id": "46799814",
   "metadata": {},
   "outputs": [
    {
     "data": {
      "text/plain": [
       "Profissao\n",
       "OUTROS                                                1452271\n",
       "ADMINISTRADOR                                          429792\n",
       "ENGENHEIRO                                             325706\n",
       "ESTUDANTE                                              258043\n",
       "ANALISTA DE SISTEMAS                                   238535\n",
       "EMPRESRIO                                              231777\n",
       "MDICO                                                  175980\n",
       "ADVOGADO                                               173488\n",
       "TRABALHADOR AUTNOMO                                    171420\n",
       "AUXILIAR DE ESCRITRIO E ASSEMELHADOS                   166537\n",
       "BANCARIO E ECONOMIRIO                                  159719\n",
       "APOSENTADO (EXCETO FUNCIONRIO PBLICO)                  148447\n",
       "GERENTE                                                136795\n",
       "VENDEDOR DE COMRCIO VAREJISTA E ATACADISTA             117495\n",
       "SERVIDO PBLICO ESTADUAL                                113778\n",
       "SERVIDOR PBLICO FEDERAL                                104750\n",
       "MILITAR EM GERAL                                        93798\n",
       "PROFESSOR DE PRIMEIRO E SEGUNDO GRAUS                   91292\n",
       "BOLSISTA, ESTAGIRIO E ASSEMELHADOS                      82408\n",
       "CONTADOR                                                81876\n",
       "SERVIDOR PBLICO MUNICIPAL                               64714\n",
       "PROPRIETARIO DE MICROEMPRESAS                           60007\n",
       "DIRETOR DE EMPRESAS                                     56975\n",
       "AGENTE ADMINISTRATIVO                                   54255\n",
       "PROFESSOR DE ENSINO SUPERIOR                            50721\n",
       "TCNICO DE ELETRICIDADE, ELETRNICA E TELECOMUNICAES      48378\n",
       "ENFERMEIRO E NUTRICIONISTA                              46473\n",
       "PUBLICITRIO                                             43901\n",
       "ECONOMISTA                                              43291\n",
       "ODONTLOGO E DENTISTA                                    42595\n",
       "dtype: int64"
      ]
     },
     "execution_count": 10,
     "metadata": {},
     "output_type": "execute_result"
    }
   ],
   "source": [
    "# Distribuição da variável Profissão\n",
    "df.groupby('Profissao').size().sort_values(ascending=False).head(30)"
   ]
  },
  {
   "cell_type": "code",
   "execution_count": 11,
   "id": "16f652a0",
   "metadata": {},
   "outputs": [
    {
     "data": {
      "text/plain": [
       "Cidade do Investidor\n",
       "SAO PAULO         1100403\n",
       "RIO DE JANEIRO     427380\n",
       "BRASILIA           191368\n",
       "BELO HORIZONTE     185354\n",
       "CURITIBA           165346\n",
       "SALVADOR           106070\n",
       "CAMPINAS            97445\n",
       "PORTO ALEGRE        94479\n",
       "FORTALEZA           87482\n",
       "GOIANIA             76348\n",
       "dtype: int64"
      ]
     },
     "execution_count": 11,
     "metadata": {},
     "output_type": "execute_result"
    }
   ],
   "source": [
    "# Distribuição da variável Cidade do Investidor\n",
    "df.groupby('Cidade do Investidor').size().sort_values(ascending=False).head(10)"
   ]
  },
  {
   "cell_type": "code",
   "execution_count": 12,
   "id": "f47b1437",
   "metadata": {},
   "outputs": [
    {
     "data": {
      "text/plain": [
       "UF do Investidor\n",
       "SP    2551642\n",
       "RJ     714721\n",
       "MG     569462\n",
       "PR     391505\n",
       "RS     306542\n",
       "SC     260546\n",
       "BA     208599\n",
       "DF     191793\n",
       "GO     159480\n",
       "PE     155716\n",
       "dtype: int64"
      ]
     },
     "execution_count": 12,
     "metadata": {},
     "output_type": "execute_result"
    }
   ],
   "source": [
    "# Distribuição da variável UF do Investidor\n",
    "df.groupby('UF do Investidor').size().sort_values(ascending=False).head(10)"
   ]
  },
  {
   "cell_type": "code",
   "execution_count": 13,
   "id": "9f53e9a2",
   "metadata": {},
   "outputs": [
    {
     "data": {
      "text/plain": [
       "Idade\n",
       "32    240225\n",
       "33    238336\n",
       "34    232287\n",
       "31    231259\n",
       "35    229652\n",
       "30    229605\n",
       "29    223460\n",
       "36    217247\n",
       "38    215153\n",
       "28    212338\n",
       "37    212329\n",
       "39    208862\n",
       "27    207894\n",
       "26    200678\n",
       "40    185816\n",
       "25    182614\n",
       "41    170522\n",
       "24    165931\n",
       "42    153215\n",
       "23    145432\n",
       "dtype: int64"
      ]
     },
     "execution_count": 13,
     "metadata": {},
     "output_type": "execute_result"
    }
   ],
   "source": [
    "# Distribuição da variável Idade\n",
    "df.groupby('Idade').size().sort_values(ascending=False).head(20)"
   ]
  },
  {
   "cell_type": "code",
   "execution_count": 14,
   "id": "493d3673",
   "metadata": {},
   "outputs": [
    {
     "data": {
      "text/plain": [
       "0.9758960753742039"
      ]
     },
     "execution_count": 14,
     "metadata": {},
     "output_type": "execute_result"
    }
   ],
   "source": [
    "# Skew (coeficiente de simetria) do atributo Idade\n",
    "# Distribuição assimétrica positiva\n",
    "df['Idade'].skew()"
   ]
  },
  {
   "cell_type": "code",
   "execution_count": 15,
   "id": "374d4cd1",
   "metadata": {},
   "outputs": [
    {
     "data": {
      "text/plain": [
       "0.9018195237740017"
      ]
     },
     "execution_count": 15,
     "metadata": {},
     "output_type": "execute_result"
    }
   ],
   "source": [
    "# Kurtosis (grau de achatamento) do atributo Idade\n",
    "# > 0,263 platicúrtica (curva mais achatada que a curva normal)\n",
    "df['Idade'].kurtosis()"
   ]
  },
  {
   "cell_type": "code",
   "execution_count": 16,
   "id": "f91e0512",
   "metadata": {},
   "outputs": [
    {
     "data": {
      "text/plain": [
       "<AxesSubplot:>"
      ]
     },
     "execution_count": 16,
     "metadata": {},
     "output_type": "execute_result"
    },
    {
     "data": {
      "image/png": "[encoded data removed]",
      "text/plain": [
       "<Figure size 432x288 with 1 Axes>"
      ]
     },
     "metadata": {
      "needs_background": "light"
     },
     "output_type": "display_data"
    }
   ],
   "source": [
    "# Distribuição da variável Idade\n",
    "df['Idade'].hist()"
   ]
  },
  {
   "cell_type": "code",
   "execution_count": 17,
   "id": "3b7b0a8c",
   "metadata": {},
   "outputs": [
    {
     "data": {
      "text/plain": [
       "<AxesSubplot:ylabel='Density'>"
      ]
     },
     "execution_count": 17,
     "metadata": {},
     "output_type": "execute_result"
    },
    {
     "data": {
      "image/png": "[encoded data removed]",
      "text/plain": [
       "<Figure size 432x288 with 1 Axes>"
      ]
     },
     "metadata": {
      "needs_background": "light"
     },
     "output_type": "display_data"
    }
   ],
   "source": [
    "# Gráfico de densidade\n",
    "df['Idade'].plot(kind = 'density', subplots = False, layout = (1,1), sharex = False)"
   ]
  },
  {
   "cell_type": "code",
   "execution_count": 18,
   "id": "1afdfe16",
   "metadata": {},
   "outputs": [
    {
     "data": {
      "text/plain": [
       "<AxesSubplot:>"
      ]
     },
     "execution_count": 18,
     "metadata": {},
     "output_type": "execute_result"
    },
    {
     "data": {
      "image/png": "[encoded data removed]",
      "text/plain": [
       "<Figure size 432x288 with 1 Axes>"
      ]
     },
     "metadata": {
      "needs_background": "light"
     },
     "output_type": "display_data"
    }
   ],
   "source": [
    "# Box plot Matplotlib\n",
    "df['Idade'].plot(kind = 'box', subplots = False, layout = (1,1), sharex = False)"
   ]
  },
  {
   "cell_type": "code",
   "execution_count": 19,
   "id": "079c333f",
   "metadata": {},
   "outputs": [
    {
     "data": {
      "text/plain": [
       "<AxesSubplot:>"
      ]
     },
     "execution_count": 19,
     "metadata": {},
     "output_type": "execute_result"
    },
    {
     "data": {
      "image/png": "[encoded data removed]",
      "text/plain": [
       "<Figure size 432x288 with 1 Axes>"
      ]
     },
     "metadata": {
      "needs_background": "light"
     },
     "output_type": "display_data"
    }
   ],
   "source": [
    "# Boxplot Seaborn\n",
    "sbn.boxplot(data = df['Idade'], orient = \"v\")"
   ]
  },
  {
   "cell_type": "code",
   "execution_count": 20,
   "id": "8c090925",
   "metadata": {},
   "outputs": [
    {
     "name": "stderr",
     "output_type": "stream",
     "text": [
      "/home/cienciad/anaconda3/lib/python3.9/site-packages/seaborn/distributions.py:2619: FutureWarning: `distplot` is a deprecated function and will be removed in a future version. Please adapt your code to use either `displot` (a figure-level function with similar flexibility) or `histplot` (an axes-level function for histograms).\n",
      "  warnings.warn(msg, FutureWarning)\n"
     ]
    },
    {
     "data": {
      "image/png": "[encoded data removed]",
      "text/plain": [
       "<Figure size 432x288 with 1 Axes>"
      ]
     },
     "metadata": {
      "needs_background": "light"
     },
     "output_type": "display_data"
    }
   ],
   "source": [
    "\n",
    "from scipy import stats\n",
    "sbn.distplot(df.Idade, fit = stats.norm);"
   ]
  },
  {
   "cell_type": "code",
   "execution_count": null,
   "id": "4be4f687",
   "metadata": {},
   "outputs": [],
   "source": []
  }
 ],
 "metadata": {
  "kernelspec": {
   "display_name": "Python 3 (ipykernel)",
   "language": "python",
   "name": "python3"
  },
  "language_info": {
   "codemirror_mode": {
    "name": "ipython",
    "version": 3
   },
   "file_extension": ".py",
   "mimetype": "text/x-python",
   "name": "python",
   "nbconvert_exporter": "python",
   "pygments_lexer": "ipython3",
   "version": "3.9.12"
  }
 },
 "nbformat": 4,
 "nbformat_minor": 5
}
